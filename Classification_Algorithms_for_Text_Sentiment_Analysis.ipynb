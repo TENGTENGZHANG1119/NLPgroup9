{
  "nbformat": 4,
  "nbformat_minor": 0,
  "metadata": {
    "colab": {
      "provenance": []
    },
    "kernelspec": {
      "name": "python3",
      "display_name": "Python 3"
    },
    "language_info": {
      "name": "python"
    }
  },
  "cells": [
    {
      "cell_type": "code",
      "source": [
        "import pandas as pd\n",
        "from sklearn.feature_extraction.text import CountVectorizer, TfidfVectorizer\n",
        "from sklearn.model_selection import train_test_split\n",
        "from sklearn.linear_model import LogisticRegression\n",
        "from sklearn.naive_bayes import MultinomialNB\n",
        "from sklearn.svm import SVC\n",
        "from sklearn.metrics import accuracy_score\n",
        "\n",
        "# Step 1: Load the datasets\n",
        "train_data = pd.read_csv('train.csv')\n",
        "test_data = pd.read_csv('test.csv')"
      ],
      "metadata": {
        "id": "wkrQNuSdShcq"
      },
      "execution_count": 9,
      "outputs": []
    },
    {
      "cell_type": "code",
      "source": [
        "# Step 2: Preprocess the data (assuming basic preprocessing)\n",
        "train_data['processed_text'] = train_data['text'].str.lower()\n",
        "test_data['processed_text'] = test_data['text'].str.lower()"
      ],
      "metadata": {
        "id": "Ef6VUf8zSos8"
      },
      "execution_count": 10,
      "outputs": []
    },
    {
      "cell_type": "code",
      "source": [
        "# Step 3: Feature extraction using various methods (BoW, TF-IDF, embeddings, etc.)\n",
        "# Option 1: Bag-of-Words (BoW) vectors\n",
        "vectorizer = CountVectorizer()\n",
        "X_train_bow = vectorizer.fit_transform(train_data['processed_text'])\n",
        "X_test_bow = vectorizer.transform(test_data['processed_text'])\n",
        "\n",
        "# Option 2: TF-IDF vectors\n",
        "vectorizer = TfidfVectorizer()\n",
        "X_train_tfidf = vectorizer.fit_transform(train_data['processed_text'])\n",
        "X_test_tfidf = vectorizer.transform(test_data['processed_text'])\n",
        "\n",
        "# Uncomment for Option 3: Word embeddings\n",
        "# X_train = # Extract word embeddings for train_data\n",
        "# X_test = # Extract word embeddings for test_data\n",
        "\n",
        "y_train = train_data['label']"
      ],
      "metadata": {
        "id": "S9GYy6JBStKr"
      },
      "execution_count": 11,
      "outputs": []
    },
    {
      "cell_type": "code",
      "source": [
        "# Step 4: Split the data into training and validation sets\n",
        "X_train_bow, X_val_bow, X_train_tfidf, X_val_tfidf, y_train, y_val = train_test_split(\n",
        "    X_train_bow, X_train_tfidf, y_train, test_size=0.2, random_state=42\n",
        ")\n"
      ],
      "metadata": {
        "id": "DPj6s6NIS2-F"
      },
      "execution_count": 12,
      "outputs": []
    },
    {
      "cell_type": "code",
      "source": [
        "# Step 5: Train classifiers (Logistic Regression, Naive Bayes, SVM, etc.)\n",
        "# Option 1: Logistic Regression\n",
        "classifier_lr = LogisticRegression(max_iter=50)\n",
        "classifier_lr.fit(X_train_bow, y_train)\n",
        "y_pred_lr = classifier_lr.predict(X_val_bow)\n",
        "accuracy_lr = accuracy_score(y_val, y_pred_lr)\n",
        "print('Logistic Regression (BoW) Accuracy:', accuracy_lr)\n",
        "\n",
        "classifier_lr_tfidf = LogisticRegression(max_iter=50)\n",
        "classifier_lr_tfidf.fit(X_train_tfidf, y_train)\n",
        "y_pred_lr_tfidf = classifier_lr_tfidf.predict(X_val_tfidf)\n",
        "accuracy_lr_tfidf = accuracy_score(y_val, y_pred_lr_tfidf)\n",
        "print('Logistic Regression (TF-IDF) Accuracy:', accuracy_lr_tfidf)\n",
        "\n",
        "# Option 2: Naive Bayes Classifier\n",
        "classifier_nb = MultinomialNB()\n",
        "classifier_nb.fit(X_train_bow, y_train)\n",
        "y_pred_nb = classifier_nb.predict(X_val_bow)\n",
        "accuracy_nb = accuracy_score(y_val, y_pred_nb)\n",
        "print('Naive Bayes (BoW) Accuracy:', accuracy_nb)\n",
        "\n",
        "classifier_nb_tfidf = MultinomialNB()\n",
        "classifier_nb_tfidf.fit(X_train_tfidf, y_train)\n",
        "y_pred_nb_tfidf = classifier_nb_tfidf.predict(X_val_tfidf)\n",
        "accuracy_nb_tfidf = accuracy_score(y_val, y_pred_nb_tfidf)\n",
        "print('Naive Bayes (TF-IDF) Accuracy:', accuracy_nb_tfidf)\n",
        "\n",
        "# Option 3: SVM Classifier\n",
        "classifier_svm = SVC(max_iter=50)\n",
        "classifier_svm.fit(X_train_bow, y_train)\n",
        "y_pred_svm = classifier_svm.predict(X_val_bow)\n",
        "accuracy_svm = accuracy_score(y_val, y_pred_svm)\n",
        "print('SVM (BoW) Accuracy:', accuracy_svm)\n",
        "\n",
        "classifier_svm_tfidf = SVC(max_iter=50)\n",
        "classifier_svm_tfidf.fit(X_train_tfidf, y_train)\n",
        "y_pred_svm_tfidf = classifier_svm_tfidf.predict(X_val_tfidf)\n",
        "accuracy_svm_tfidf = accuracy_score(y_val, y_pred_svm_tfidf)\n",
        "print('SVM (TF-IDF) Accuracy:', accuracy_svm_tfidf)\n",
        "\n"
      ],
      "metadata": {
        "id": "U52tNVUdhyzF"
      },
      "execution_count": null,
      "outputs": []
    },
    {
      "cell_type": "code",
      "source": [
        "# Step 6: Make predictions on the test set\n",
        "test_predictions_lr = classifier_lr.predict(X_test_bow)\n",
        "test_predictions_lr_tfidf = classifier_lr_tfidf.predict(X_test_tfidf)\n",
        "test_predictions_nb = classifier_nb.predict(X_test_bow)\n",
        "test_predictions_nb_tfidf = classifier_nb_tfidf.predict(X_test_tfidf)\n",
        "test_predictions_svm = classifier_svm.predict(X_test_bow)\n",
        "test_predictions_svm_tfidf = classifier_svm_tfidf.predict(X_test_tfidf)"
      ],
      "metadata": {
        "id": "xUuOimtLS5he"
      },
      "execution_count": null,
      "outputs": []
    }
  ]
}